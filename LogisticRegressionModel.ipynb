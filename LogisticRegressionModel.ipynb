{
 "cells": [
  {
   "cell_type": "code",
   "execution_count": 1,
   "id": "2a9edf27-fd2e-4abe-b927-e9cd8ac824b5",
   "metadata": {},
   "outputs": [],
   "source": [
    "#nltk.download('punkt')\n",
    "#nltk.download('punkt_tab')\n",
    "#nltk.download('stopwords')\n",
    "#nltk.download('wordnet')\n",
    "\n",
    "\n",
    "from collections import Counter\n",
    "import matplotlib.pyplot as plt\n",
    "import numpy as np\n",
    "import nltk\n",
    "from nltk.corpus import stopwords\n",
    "from nltk.stem import WordNetLemmatizer\n",
    "from nltk.tokenize import word_tokenize\n",
    "import pandas as pd\n",
    "import re\n",
    "import seaborn as sns\n",
    "from sklearn.compose import ColumnTransformer\n",
    "from sklearn.feature_extraction.text import TfidfVectorizer\n",
    "from sklearn.linear_model import LogisticRegression\n",
    "from sklearn.metrics import classification_report, confusion_matrix, ConfusionMatrixDisplay\n",
    "from sklearn.model_selection import train_test_split\n",
    "from sklearn.pipeline import Pipeline\n",
    "from sklearn.preprocessing import LabelEncoder, StandardScaler\n",
    "import string"
   ]
  },
  {
   "cell_type": "code",
   "execution_count": 2,
   "id": "e12439cf-86ff-4064-9ae1-3391d513e0f1",
   "metadata": {},
   "outputs": [],
   "source": [
    "# Load the dataset from Kaggle\n",
    "df = pd.read_csv('/Users/luzejames/Documents/Python/Capstone Project/combined_data.csv')\n"
   ]
  },
  {
   "cell_type": "code",
   "execution_count": 3,
   "id": "4c39f493-349e-497a-8fe7-8880c915ddf3",
   "metadata": {},
   "outputs": [
    {
     "data": {
      "text/html": [
       "<div>\n",
       "<style scoped>\n",
       "    .dataframe tbody tr th:only-of-type {\n",
       "        vertical-align: middle;\n",
       "    }\n",
       "\n",
       "    .dataframe tbody tr th {\n",
       "        vertical-align: top;\n",
       "    }\n",
       "\n",
       "    .dataframe thead th {\n",
       "        text-align: right;\n",
       "    }\n",
       "</style>\n",
       "<table border=\"1\" class=\"dataframe\">\n",
       "  <thead>\n",
       "    <tr style=\"text-align: right;\">\n",
       "      <th></th>\n",
       "      <th>label</th>\n",
       "      <th>text</th>\n",
       "    </tr>\n",
       "  </thead>\n",
       "  <tbody>\n",
       "    <tr>\n",
       "      <th>0</th>\n",
       "      <td>1</td>\n",
       "      <td>ounce feather bowl hummingbird opec moment ala...</td>\n",
       "    </tr>\n",
       "    <tr>\n",
       "      <th>1</th>\n",
       "      <td>1</td>\n",
       "      <td>wulvob get your medircations online qnb ikud v...</td>\n",
       "    </tr>\n",
       "    <tr>\n",
       "      <th>2</th>\n",
       "      <td>0</td>\n",
       "      <td>computer connection from cnn com wednesday es...</td>\n",
       "    </tr>\n",
       "    <tr>\n",
       "      <th>3</th>\n",
       "      <td>1</td>\n",
       "      <td>university degree obtain a prosperous future m...</td>\n",
       "    </tr>\n",
       "    <tr>\n",
       "      <th>4</th>\n",
       "      <td>0</td>\n",
       "      <td>thanks for all your answers guys i know i shou...</td>\n",
       "    </tr>\n",
       "  </tbody>\n",
       "</table>\n",
       "</div>"
      ],
      "text/plain": [
       "   label                                               text\n",
       "0      1  ounce feather bowl hummingbird opec moment ala...\n",
       "1      1  wulvob get your medircations online qnb ikud v...\n",
       "2      0   computer connection from cnn com wednesday es...\n",
       "3      1  university degree obtain a prosperous future m...\n",
       "4      0  thanks for all your answers guys i know i shou..."
      ]
     },
     "execution_count": 3,
     "metadata": {},
     "output_type": "execute_result"
    }
   ],
   "source": [
    "# Explore the file\n",
    "df.head()"
   ]
  },
  {
   "cell_type": "code",
   "execution_count": 4,
   "id": "7d6d6e01-2986-40e0-a681-f099f0ecc172",
   "metadata": {},
   "outputs": [
    {
     "data": {
      "image/png": "[encoded data removed]",
      "text/plain": [
       "<Figure size 640x480 with 1 Axes>"
      ]
     },
     "metadata": {},
     "output_type": "display_data"
    }
   ],
   "source": [
    "sns.countplot(x='label', data=df)\n",
    "plt.title(\"Class Distribution\")\n",
    "plt.xlabel(\"Email Type - 0=Non Spam  1=Spam\")\n",
    "plt.ylabel(\"Count\")\n",
    "plt.show()"
   ]
  },
  {
   "cell_type": "code",
   "execution_count": 5,
   "id": "671d7d14-aafe-416f-86db-9f99cbcab326",
   "metadata": {},
   "outputs": [
    {
     "name": "stdout",
     "output_type": "stream",
     "text": [
      "<class 'pandas.core.frame.DataFrame'>\n",
      "RangeIndex: 83448 entries, 0 to 83447\n",
      "Data columns (total 2 columns):\n",
      " #   Column  Non-Null Count  Dtype \n",
      "---  ------  --------------  ----- \n",
      " 0   label   83448 non-null  int64 \n",
      " 1   text    83448 non-null  object\n",
      "dtypes: int64(1), object(1)\n",
      "memory usage: 1.3+ MB\n"
     ]
    }
   ],
   "source": [
    "# Explore nulls\n",
    "df.info()"
   ]
  },
  {
   "cell_type": "code",
   "execution_count": 6,
   "id": "af331060-13c0-4fcf-9071-23b86a1afa4b",
   "metadata": {},
   "outputs": [],
   "source": [
    "# Get English stop words and instantiate WordNetLemmatizer\n",
    "\n",
    "stop_words = set(stopwords.words('english'))\n",
    "lemmatizer = WordNetLemmatizer()\n",
    "\n",
    "# Function to convert text to lowercase, remove punctuation marks, remove all digits,\n",
    "# tokenize the text into individual words, remove stop words and reduce words to their base form. \n",
    "def clean_text(text):    \n",
    "    text = text.lower()\n",
    "    text = text.translate(str.maketrans('', '', string.punctuation))\n",
    "    text = re.sub(r'\\d+', '', text)\n",
    "    tokens = word_tokenize(text)\n",
    "    tokens = [lemmatizer.lemmatize(word) for word in tokens if word not in stop_words]\n",
    "    return ' '.join(tokens)\n",
    "\n",
    "# Function to extract the following features from the text: Average of the word count per row, Indicator about the text having links,\n",
    "# Indicator to tell if there are special words that indicate spam, \n",
    "# Counts of the following: Characters and words, Punctuation marks, Number of digits, and Number of stopwords.\n",
    "\n",
    "def extract_features(text):\n",
    "    words = word_tokenize(text)\n",
    "    return {\n",
    "        'avg_word_length': np.mean([len(w) for w in words]) if words else 0,\n",
    "        'has_links': int(bool(re.search(r\"http[s]?://|www\\.\", text.lower()))),\n",
    "        'has_special_offer_words': int(any(word in text.lower() for word in ['free', 'win', 'cash', 'credit', 'prize', 'offer', 'urgent'])),\n",
    "        'char_count': len(text),\n",
    "        'word_count': len(words),\n",
    "        'num_punctuation': sum(1 for c in text if c in string.punctuation),\n",
    "        'num_digits': sum(1 for c in text if c.isdigit()),\n",
    "        'num_stopwords': sum(1 for w in words if w.lower() in stop_words)\n",
    "    }"
   ]
  },
  {
   "cell_type": "code",
   "execution_count": 7,
   "id": "48011578-4305-49b5-bb8e-a747715ac8d3",
   "metadata": {},
   "outputs": [
    {
     "data": {
      "text/html": [
       "<div>\n",
       "<style scoped>\n",
       "    .dataframe tbody tr th:only-of-type {\n",
       "        vertical-align: middle;\n",
       "    }\n",
       "\n",
       "    .dataframe tbody tr th {\n",
       "        vertical-align: top;\n",
       "    }\n",
       "\n",
       "    .dataframe thead th {\n",
       "        text-align: right;\n",
       "    }\n",
       "</style>\n",
       "<table border=\"1\" class=\"dataframe\">\n",
       "  <thead>\n",
       "    <tr style=\"text-align: right;\">\n",
       "      <th></th>\n",
       "      <th>label</th>\n",
       "      <th>text</th>\n",
       "      <th>avg_word_length</th>\n",
       "      <th>has_links</th>\n",
       "      <th>has_special_offer_words</th>\n",
       "      <th>char_count</th>\n",
       "      <th>word_count</th>\n",
       "      <th>num_punctuation</th>\n",
       "      <th>num_digits</th>\n",
       "      <th>num_stopwords</th>\n",
       "    </tr>\n",
       "  </thead>\n",
       "  <tbody>\n",
       "    <tr>\n",
       "      <th>0</th>\n",
       "      <td>1</td>\n",
       "      <td>ounce feather bowl hummingbird opec moment ala...</td>\n",
       "      <td>6.450000</td>\n",
       "      <td>0.0</td>\n",
       "      <td>0.0</td>\n",
       "      <td>148.0</td>\n",
       "      <td>20.0</td>\n",
       "      <td>0.0</td>\n",
       "      <td>0.0</td>\n",
       "      <td>0.0</td>\n",
       "    </tr>\n",
       "    <tr>\n",
       "      <th>1</th>\n",
       "      <td>1</td>\n",
       "      <td>wulvob get your medircations online qnb ikud v...</td>\n",
       "      <td>6.788462</td>\n",
       "      <td>0.0</td>\n",
       "      <td>0.0</td>\n",
       "      <td>808.0</td>\n",
       "      <td>104.0</td>\n",
       "      <td>1.0</td>\n",
       "      <td>0.0</td>\n",
       "      <td>25.0</td>\n",
       "    </tr>\n",
       "    <tr>\n",
       "      <th>2</th>\n",
       "      <td>0</td>\n",
       "      <td>computer connection from cnn com wednesday es...</td>\n",
       "      <td>5.612426</td>\n",
       "      <td>0.0</td>\n",
       "      <td>1.0</td>\n",
       "      <td>2235.0</td>\n",
       "      <td>338.0</td>\n",
       "      <td>1.0</td>\n",
       "      <td>0.0</td>\n",
       "      <td>62.0</td>\n",
       "    </tr>\n",
       "    <tr>\n",
       "      <th>3</th>\n",
       "      <td>1</td>\n",
       "      <td>university degree obtain a prosperous future m...</td>\n",
       "      <td>6.789474</td>\n",
       "      <td>0.0</td>\n",
       "      <td>1.0</td>\n",
       "      <td>592.0</td>\n",
       "      <td>76.0</td>\n",
       "      <td>0.0</td>\n",
       "      <td>0.0</td>\n",
       "      <td>21.0</td>\n",
       "    </tr>\n",
       "    <tr>\n",
       "      <th>4</th>\n",
       "      <td>0</td>\n",
       "      <td>thanks for all your answers guys i know i shou...</td>\n",
       "      <td>5.112108</td>\n",
       "      <td>0.0</td>\n",
       "      <td>0.0</td>\n",
       "      <td>1362.0</td>\n",
       "      <td>223.0</td>\n",
       "      <td>32.0</td>\n",
       "      <td>0.0</td>\n",
       "      <td>50.0</td>\n",
       "    </tr>\n",
       "  </tbody>\n",
       "</table>\n",
       "</div>"
      ],
      "text/plain": [
       "   label                                               text  avg_word_length  \\\n",
       "0      1  ounce feather bowl hummingbird opec moment ala...         6.450000   \n",
       "1      1  wulvob get your medircations online qnb ikud v...         6.788462   \n",
       "2      0   computer connection from cnn com wednesday es...         5.612426   \n",
       "3      1  university degree obtain a prosperous future m...         6.789474   \n",
       "4      0  thanks for all your answers guys i know i shou...         5.112108   \n",
       "\n",
       "   has_links  has_special_offer_words  char_count  word_count  \\\n",
       "0        0.0                      0.0       148.0        20.0   \n",
       "1        0.0                      0.0       808.0       104.0   \n",
       "2        0.0                      1.0      2235.0       338.0   \n",
       "3        0.0                      1.0       592.0        76.0   \n",
       "4        0.0                      0.0      1362.0       223.0   \n",
       "\n",
       "   num_punctuation  num_digits  num_stopwords  \n",
       "0              0.0         0.0            0.0  \n",
       "1              1.0         0.0           25.0  \n",
       "2              1.0         0.0           62.0  \n",
       "3              0.0         0.0           21.0  \n",
       "4             32.0         0.0           50.0  "
      ]
     },
     "execution_count": 7,
     "metadata": {},
     "output_type": "execute_result"
    }
   ],
   "source": [
    "# Apply extract_features to DataFrame \n",
    "engineered_df = df['text'].apply(lambda x: pd.Series(extract_features(x)))\n",
    "\n",
    "# Add Engineered Features to the original DataFrame\n",
    "df = pd.concat([df, engineered_df], axis=1)\n",
    "df.head()"
   ]
  },
  {
   "cell_type": "code",
   "execution_count": 8,
   "id": "74cd452f-bdd5-435c-95e1-a6d094104486",
   "metadata": {},
   "outputs": [],
   "source": [
    "# Apply the function clean_text to the text column, add a new column with the clean data \n",
    "df['cleaned_text'] = df['text'].apply(clean_text)\n"
   ]
  },
  {
   "cell_type": "code",
   "execution_count": 9,
   "id": "6b3c1889-adf3-4841-9dcd-1462ca0e9f9d",
   "metadata": {},
   "outputs": [
    {
     "data": {
      "text/html": [
       "<div>\n",
       "<style scoped>\n",
       "    .dataframe tbody tr th:only-of-type {\n",
       "        vertical-align: middle;\n",
       "    }\n",
       "\n",
       "    .dataframe tbody tr th {\n",
       "        vertical-align: top;\n",
       "    }\n",
       "\n",
       "    .dataframe thead th {\n",
       "        text-align: right;\n",
       "    }\n",
       "</style>\n",
       "<table border=\"1\" class=\"dataframe\">\n",
       "  <thead>\n",
       "    <tr style=\"text-align: right;\">\n",
       "      <th></th>\n",
       "      <th>label</th>\n",
       "      <th>text</th>\n",
       "      <th>avg_word_length</th>\n",
       "      <th>has_links</th>\n",
       "      <th>has_special_offer_words</th>\n",
       "      <th>char_count</th>\n",
       "      <th>word_count</th>\n",
       "      <th>num_punctuation</th>\n",
       "      <th>num_digits</th>\n",
       "      <th>num_stopwords</th>\n",
       "      <th>cleaned_text</th>\n",
       "    </tr>\n",
       "  </thead>\n",
       "  <tbody>\n",
       "    <tr>\n",
       "      <th>0</th>\n",
       "      <td>1</td>\n",
       "      <td>ounce feather bowl hummingbird opec moment ala...</td>\n",
       "      <td>6.450000</td>\n",
       "      <td>0.0</td>\n",
       "      <td>0.0</td>\n",
       "      <td>148.0</td>\n",
       "      <td>20.0</td>\n",
       "      <td>0.0</td>\n",
       "      <td>0.0</td>\n",
       "      <td>0.0</td>\n",
       "      <td>ounce feather bowl hummingbird opec moment ala...</td>\n",
       "    </tr>\n",
       "    <tr>\n",
       "      <th>1</th>\n",
       "      <td>1</td>\n",
       "      <td>wulvob get your medircations online qnb ikud v...</td>\n",
       "      <td>6.788462</td>\n",
       "      <td>0.0</td>\n",
       "      <td>0.0</td>\n",
       "      <td>808.0</td>\n",
       "      <td>104.0</td>\n",
       "      <td>1.0</td>\n",
       "      <td>0.0</td>\n",
       "      <td>25.0</td>\n",
       "      <td>wulvob get medircations online qnb ikud viagra...</td>\n",
       "    </tr>\n",
       "    <tr>\n",
       "      <th>2</th>\n",
       "      <td>0</td>\n",
       "      <td>computer connection from cnn com wednesday es...</td>\n",
       "      <td>5.612426</td>\n",
       "      <td>0.0</td>\n",
       "      <td>1.0</td>\n",
       "      <td>2235.0</td>\n",
       "      <td>338.0</td>\n",
       "      <td>1.0</td>\n",
       "      <td>0.0</td>\n",
       "      <td>62.0</td>\n",
       "      <td>computer connection cnn com wednesday escapenu...</td>\n",
       "    </tr>\n",
       "    <tr>\n",
       "      <th>3</th>\n",
       "      <td>1</td>\n",
       "      <td>university degree obtain a prosperous future m...</td>\n",
       "      <td>6.789474</td>\n",
       "      <td>0.0</td>\n",
       "      <td>1.0</td>\n",
       "      <td>592.0</td>\n",
       "      <td>76.0</td>\n",
       "      <td>0.0</td>\n",
       "      <td>0.0</td>\n",
       "      <td>21.0</td>\n",
       "      <td>university degree obtain prosperous future mon...</td>\n",
       "    </tr>\n",
       "    <tr>\n",
       "      <th>4</th>\n",
       "      <td>0</td>\n",
       "      <td>thanks for all your answers guys i know i shou...</td>\n",
       "      <td>5.112108</td>\n",
       "      <td>0.0</td>\n",
       "      <td>0.0</td>\n",
       "      <td>1362.0</td>\n",
       "      <td>223.0</td>\n",
       "      <td>32.0</td>\n",
       "      <td>0.0</td>\n",
       "      <td>50.0</td>\n",
       "      <td>thanks answer guy know checked rsync manual wo...</td>\n",
       "    </tr>\n",
       "  </tbody>\n",
       "</table>\n",
       "</div>"
      ],
      "text/plain": [
       "   label                                               text  avg_word_length  \\\n",
       "0      1  ounce feather bowl hummingbird opec moment ala...         6.450000   \n",
       "1      1  wulvob get your medircations online qnb ikud v...         6.788462   \n",
       "2      0   computer connection from cnn com wednesday es...         5.612426   \n",
       "3      1  university degree obtain a prosperous future m...         6.789474   \n",
       "4      0  thanks for all your answers guys i know i shou...         5.112108   \n",
       "\n",
       "   has_links  has_special_offer_words  char_count  word_count  \\\n",
       "0        0.0                      0.0       148.0        20.0   \n",
       "1        0.0                      0.0       808.0       104.0   \n",
       "2        0.0                      1.0      2235.0       338.0   \n",
       "3        0.0                      1.0       592.0        76.0   \n",
       "4        0.0                      0.0      1362.0       223.0   \n",
       "\n",
       "   num_punctuation  num_digits  num_stopwords  \\\n",
       "0              0.0         0.0            0.0   \n",
       "1              1.0         0.0           25.0   \n",
       "2              1.0         0.0           62.0   \n",
       "3              0.0         0.0           21.0   \n",
       "4             32.0         0.0           50.0   \n",
       "\n",
       "                                        cleaned_text  \n",
       "0  ounce feather bowl hummingbird opec moment ala...  \n",
       "1  wulvob get medircations online qnb ikud viagra...  \n",
       "2  computer connection cnn com wednesday escapenu...  \n",
       "3  university degree obtain prosperous future mon...  \n",
       "4  thanks answer guy know checked rsync manual wo...  "
      ]
     },
     "execution_count": 9,
     "metadata": {},
     "output_type": "execute_result"
    }
   ],
   "source": [
    "df.head()"
   ]
  },
  {
   "cell_type": "code",
   "execution_count": 10,
   "id": "ebb8aad0-ee32-43aa-abcf-072deb24fff8",
   "metadata": {},
   "outputs": [
    {
     "data": {
      "image/png": "[encoded data removed]",
      "text/plain": [
       "<Figure size 640x480 with 1 Axes>"
      ]
     },
     "metadata": {},
     "output_type": "display_data"
    },
    {
     "data": {
      "image/png": "[encoded data removed]",
      "text/plain": [
       "<Figure size 640x480 with 1 Axes>"
      ]
     },
     "metadata": {},
     "output_type": "display_data"
    }
   ],
   "source": [
    "# Count and plot top words \n",
    "def get_top_words(texts, n=10):\n",
    "    all_words = ' '.join(texts).split()\n",
    "    return Counter(all_words).most_common(n)\n",
    "\n",
    "# Get top words for each class\n",
    "spam_words = get_top_words(df[df['label'] == 1]['cleaned_text'], n=10)\n",
    "not_spam_words = get_top_words(df[df['label'] == 0]['cleaned_text'], n=10)\n",
    "\n",
    "def plot_top_words(word_counts, title):\n",
    "    if not word_counts:\n",
    "        print(f\"No words found for: {title}\")\n",
    "        return\n",
    "    words, counts = zip(*word_counts)\n",
    "    sns.barplot(x=counts, y=words)\n",
    "    plt.title(title)\n",
    "    plt.xlabel(\"Count\")\n",
    "    plt.ylabel(\"Words\")\n",
    "    plt.show()\n",
    "\n",
    "# Generate plots\n",
    "plot_top_words(spam_words, \"Top Words in Spam Emails\")\n",
    "plot_top_words(not_spam_words, \"Top Words in Not Spam Emails\")\n"
   ]
  },
  {
   "cell_type": "code",
   "execution_count": 11,
   "id": "4ee5ee1b-5e1f-482e-a2d6-aa868555ede6",
   "metadata": {},
   "outputs": [],
   "source": [
    "# Define features and target column\n",
    "X = df.drop(columns=['label'])\n",
    "y = df['label']\n",
    "\n",
    "# Train/test split\n",
    "X_train, X_test, y_train, y_test = train_test_split(X, y, stratify=y, test_size=0.2, random_state=42)\n",
    "\n"
   ]
  },
  {
   "cell_type": "code",
   "execution_count": 12,
   "id": "2fd641bb-8baf-406a-bf7c-c419b8679870",
   "metadata": {},
   "outputs": [],
   "source": [
    "# Preprocessing \n",
    "preprocessor = ColumnTransformer(transformers=[\n",
    "    ('tfidf', TfidfVectorizer(max_features=1000), 'cleaned_text'),\n",
    "    ('scale', StandardScaler(), engineered_df.columns.tolist())\n",
    "])"
   ]
  },
  {
   "cell_type": "code",
   "execution_count": 13,
   "id": "5d5c5a2a-7462-474e-89ad-fca10fc71083",
   "metadata": {},
   "outputs": [],
   "source": [
    "# Create the Pipeline\n",
    "pipeline = Pipeline([\n",
    "    ('features', preprocessor),\n",
    "    ('clf', LogisticRegression(max_iter=1000, class_weight='balanced'))\n",
    "])"
   ]
  },
  {
   "cell_type": "code",
   "execution_count": 14,
   "id": "6c13d8a5-ef0d-4afe-83e5-353a7a4f6cb0",
   "metadata": {},
   "outputs": [],
   "source": [
    "# Train and Predict\n",
    "pipeline.fit(X_train, y_train)\n",
    "\n",
    "# Predict\n",
    "y_pred = pipeline.predict(X_test)"
   ]
  },
  {
   "cell_type": "code",
   "execution_count": 15,
   "id": "50f46b13-25f9-4529-885e-1aca85b0253f",
   "metadata": {},
   "outputs": [
    {
     "name": "stdout",
     "output_type": "stream",
     "text": [
      "              precision    recall  f1-score   support\n",
      "\n",
      "           0       0.97      0.96      0.97      7908\n",
      "           1       0.97      0.97      0.97      8782\n",
      "\n",
      "    accuracy                           0.97     16690\n",
      "   macro avg       0.97      0.97      0.97     16690\n",
      "weighted avg       0.97      0.97      0.97     16690\n",
      "\n"
     ]
    }
   ],
   "source": [
    "# Evaluate\n",
    "print(classification_report(y_test, y_pred, zero_division=0))"
   ]
  },
  {
   "cell_type": "code",
   "execution_count": 16,
   "id": "2a3c9c80-44af-4490-8381-937c0236ef3b",
   "metadata": {},
   "outputs": [
    {
     "data": {
      "image/png": "[encoded data removed]",
      "text/plain": [
       "<Figure size 640x480 with 2 Axes>"
      ]
     },
     "metadata": {},
     "output_type": "display_data"
    }
   ],
   "source": [
    "ConfusionMatrixDisplay.from_predictions(y_test, y_pred, display_labels=['Not Spam', 'Spam'], cmap='Blues')\n",
    "plt.title(\"Confusion Matrix\")\n",
    "plt.tight_layout()\n",
    "plt.show()"
   ]
  },
  {
   "cell_type": "code",
   "execution_count": null,
   "id": "99c3f4e1-48ec-4c2c-8fbd-eb4b51663df0",
   "metadata": {},
   "outputs": [],
   "source": []
  }
 ],
 "metadata": {
  "kernelspec": {
   "display_name": "Python 3 (ipykernel)",
   "language": "python",
   "name": "python3"
  },
  "language_info": {
   "codemirror_mode": {
    "name": "ipython",
    "version": 3
   },
   "file_extension": ".py",
   "mimetype": "text/x-python",
   "name": "python",
   "nbconvert_exporter": "python",
   "pygments_lexer": "ipython3",
   "version": "3.12.2"
  }
 },
 "nbformat": 4,
 "nbformat_minor": 5
}
